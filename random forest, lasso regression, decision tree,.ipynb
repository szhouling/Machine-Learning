{
 "cells": [
  {
   "cell_type": "markdown",
   "id": "c78d9c4d",
   "metadata": {},
   "source": [
    "# 1. Dig into the data: to predict estimated shares outstanding"
   ]
  },
  {
   "cell_type": "markdown",
   "id": "2e7d47bb",
   "metadata": {},
   "source": [
    "## a. Load the data and drop 'Ticker Symbol’, ‘Period Ending’, ‘For Year'"
   ]
  },
  {
   "cell_type": "code",
   "execution_count": 1,
   "id": "922030c4",
   "metadata": {},
   "outputs": [],
   "source": [
    "import pandas as pd\n",
    "import numpy as np"
   ]
  },
  {
   "cell_type": "code",
   "execution_count": 2,
   "id": "8c973057",
   "metadata": {},
   "outputs": [],
   "source": [
    "np.random.seed(seed=5566)"
   ]
  },
  {
   "cell_type": "code",
   "execution_count": 3,
   "id": "14113d38",
   "metadata": {},
   "outputs": [
    {
     "data": {
      "text/html": [
       "<div>\n",
       "<style scoped>\n",
       "    .dataframe tbody tr th:only-of-type {\n",
       "        vertical-align: middle;\n",
       "    }\n",
       "\n",
       "    .dataframe tbody tr th {\n",
       "        vertical-align: top;\n",
       "    }\n",
       "\n",
       "    .dataframe thead th {\n",
       "        text-align: right;\n",
       "    }\n",
       "</style>\n",
       "<table border=\"1\" class=\"dataframe\">\n",
       "  <thead>\n",
       "    <tr style=\"text-align: right;\">\n",
       "      <th></th>\n",
       "      <th>Unnamed: 0</th>\n",
       "      <th>Ticker Symbol</th>\n",
       "      <th>Period Ending</th>\n",
       "      <th>Accounts Payable</th>\n",
       "      <th>Accounts Receivable</th>\n",
       "      <th>Add'l income/expense items</th>\n",
       "      <th>After Tax ROE</th>\n",
       "      <th>Capital Expenditures</th>\n",
       "      <th>Capital Surplus</th>\n",
       "      <th>Cash Ratio</th>\n",
       "      <th>...</th>\n",
       "      <th>Total Current Assets</th>\n",
       "      <th>Total Current Liabilities</th>\n",
       "      <th>Total Equity</th>\n",
       "      <th>Total Liabilities</th>\n",
       "      <th>Total Liabilities &amp; Equity</th>\n",
       "      <th>Total Revenue</th>\n",
       "      <th>Treasury Stock</th>\n",
       "      <th>For Year</th>\n",
       "      <th>Earnings Per Share</th>\n",
       "      <th>Estimated Shares Outstanding</th>\n",
       "    </tr>\n",
       "  </thead>\n",
       "  <tbody>\n",
       "    <tr>\n",
       "      <th>0</th>\n",
       "      <td>0</td>\n",
       "      <td>AAL</td>\n",
       "      <td>2012-12-31</td>\n",
       "      <td>3.068000e+09</td>\n",
       "      <td>-222000000.0</td>\n",
       "      <td>-1.961000e+09</td>\n",
       "      <td>23.0</td>\n",
       "      <td>-1.888000e+09</td>\n",
       "      <td>4.695000e+09</td>\n",
       "      <td>53.0</td>\n",
       "      <td>...</td>\n",
       "      <td>7.072000e+09</td>\n",
       "      <td>9.011000e+09</td>\n",
       "      <td>-7.987000e+09</td>\n",
       "      <td>2.489100e+10</td>\n",
       "      <td>1.690400e+10</td>\n",
       "      <td>2.485500e+10</td>\n",
       "      <td>-367000000.0</td>\n",
       "      <td>2012.0</td>\n",
       "      <td>-5.60</td>\n",
       "      <td>3.350000e+08</td>\n",
       "    </tr>\n",
       "    <tr>\n",
       "      <th>1</th>\n",
       "      <td>1</td>\n",
       "      <td>AAL</td>\n",
       "      <td>2013-12-31</td>\n",
       "      <td>4.975000e+09</td>\n",
       "      <td>-93000000.0</td>\n",
       "      <td>-2.723000e+09</td>\n",
       "      <td>67.0</td>\n",
       "      <td>-3.114000e+09</td>\n",
       "      <td>1.059200e+10</td>\n",
       "      <td>75.0</td>\n",
       "      <td>...</td>\n",
       "      <td>1.432300e+10</td>\n",
       "      <td>1.380600e+10</td>\n",
       "      <td>-2.731000e+09</td>\n",
       "      <td>4.500900e+10</td>\n",
       "      <td>4.227800e+10</td>\n",
       "      <td>2.674300e+10</td>\n",
       "      <td>0.0</td>\n",
       "      <td>2013.0</td>\n",
       "      <td>-11.25</td>\n",
       "      <td>1.630222e+08</td>\n",
       "    </tr>\n",
       "    <tr>\n",
       "      <th>2</th>\n",
       "      <td>2</td>\n",
       "      <td>AAL</td>\n",
       "      <td>2014-12-31</td>\n",
       "      <td>4.668000e+09</td>\n",
       "      <td>-160000000.0</td>\n",
       "      <td>-1.500000e+08</td>\n",
       "      <td>143.0</td>\n",
       "      <td>-5.311000e+09</td>\n",
       "      <td>1.513500e+10</td>\n",
       "      <td>60.0</td>\n",
       "      <td>...</td>\n",
       "      <td>1.175000e+10</td>\n",
       "      <td>1.340400e+10</td>\n",
       "      <td>2.021000e+09</td>\n",
       "      <td>4.120400e+10</td>\n",
       "      <td>4.322500e+10</td>\n",
       "      <td>4.265000e+10</td>\n",
       "      <td>0.0</td>\n",
       "      <td>2014.0</td>\n",
       "      <td>4.02</td>\n",
       "      <td>7.169154e+08</td>\n",
       "    </tr>\n",
       "    <tr>\n",
       "      <th>3</th>\n",
       "      <td>3</td>\n",
       "      <td>AAL</td>\n",
       "      <td>2015-12-31</td>\n",
       "      <td>5.102000e+09</td>\n",
       "      <td>352000000.0</td>\n",
       "      <td>-7.080000e+08</td>\n",
       "      <td>135.0</td>\n",
       "      <td>-6.151000e+09</td>\n",
       "      <td>1.159100e+10</td>\n",
       "      <td>51.0</td>\n",
       "      <td>...</td>\n",
       "      <td>9.985000e+09</td>\n",
       "      <td>1.360500e+10</td>\n",
       "      <td>5.635000e+09</td>\n",
       "      <td>4.278000e+10</td>\n",
       "      <td>4.841500e+10</td>\n",
       "      <td>4.099000e+10</td>\n",
       "      <td>0.0</td>\n",
       "      <td>2015.0</td>\n",
       "      <td>11.39</td>\n",
       "      <td>6.681299e+08</td>\n",
       "    </tr>\n",
       "    <tr>\n",
       "      <th>4</th>\n",
       "      <td>4</td>\n",
       "      <td>AAP</td>\n",
       "      <td>2012-12-29</td>\n",
       "      <td>2.409453e+09</td>\n",
       "      <td>-89482000.0</td>\n",
       "      <td>6.000000e+05</td>\n",
       "      <td>32.0</td>\n",
       "      <td>-2.711820e+08</td>\n",
       "      <td>5.202150e+08</td>\n",
       "      <td>23.0</td>\n",
       "      <td>...</td>\n",
       "      <td>3.184200e+09</td>\n",
       "      <td>2.559638e+09</td>\n",
       "      <td>1.210694e+09</td>\n",
       "      <td>3.403120e+09</td>\n",
       "      <td>4.613814e+09</td>\n",
       "      <td>6.205003e+09</td>\n",
       "      <td>-27095000.0</td>\n",
       "      <td>2012.0</td>\n",
       "      <td>5.29</td>\n",
       "      <td>7.328355e+07</td>\n",
       "    </tr>\n",
       "  </tbody>\n",
       "</table>\n",
       "<p>5 rows × 79 columns</p>\n",
       "</div>"
      ],
      "text/plain": [
       "   Unnamed: 0 Ticker Symbol Period Ending  Accounts Payable  \\\n",
       "0           0           AAL    2012-12-31      3.068000e+09   \n",
       "1           1           AAL    2013-12-31      4.975000e+09   \n",
       "2           2           AAL    2014-12-31      4.668000e+09   \n",
       "3           3           AAL    2015-12-31      5.102000e+09   \n",
       "4           4           AAP    2012-12-29      2.409453e+09   \n",
       "\n",
       "   Accounts Receivable  Add'l income/expense items  After Tax ROE  \\\n",
       "0         -222000000.0               -1.961000e+09           23.0   \n",
       "1          -93000000.0               -2.723000e+09           67.0   \n",
       "2         -160000000.0               -1.500000e+08          143.0   \n",
       "3          352000000.0               -7.080000e+08          135.0   \n",
       "4          -89482000.0                6.000000e+05           32.0   \n",
       "\n",
       "   Capital Expenditures  Capital Surplus  Cash Ratio  ...  \\\n",
       "0         -1.888000e+09     4.695000e+09        53.0  ...   \n",
       "1         -3.114000e+09     1.059200e+10        75.0  ...   \n",
       "2         -5.311000e+09     1.513500e+10        60.0  ...   \n",
       "3         -6.151000e+09     1.159100e+10        51.0  ...   \n",
       "4         -2.711820e+08     5.202150e+08        23.0  ...   \n",
       "\n",
       "   Total Current Assets  Total Current Liabilities  Total Equity  \\\n",
       "0          7.072000e+09               9.011000e+09 -7.987000e+09   \n",
       "1          1.432300e+10               1.380600e+10 -2.731000e+09   \n",
       "2          1.175000e+10               1.340400e+10  2.021000e+09   \n",
       "3          9.985000e+09               1.360500e+10  5.635000e+09   \n",
       "4          3.184200e+09               2.559638e+09  1.210694e+09   \n",
       "\n",
       "   Total Liabilities  Total Liabilities & Equity  Total Revenue  \\\n",
       "0       2.489100e+10                1.690400e+10   2.485500e+10   \n",
       "1       4.500900e+10                4.227800e+10   2.674300e+10   \n",
       "2       4.120400e+10                4.322500e+10   4.265000e+10   \n",
       "3       4.278000e+10                4.841500e+10   4.099000e+10   \n",
       "4       3.403120e+09                4.613814e+09   6.205003e+09   \n",
       "\n",
       "   Treasury Stock  For Year  Earnings Per Share  Estimated Shares Outstanding  \n",
       "0    -367000000.0    2012.0               -5.60                  3.350000e+08  \n",
       "1             0.0    2013.0              -11.25                  1.630222e+08  \n",
       "2             0.0    2014.0                4.02                  7.169154e+08  \n",
       "3             0.0    2015.0               11.39                  6.681299e+08  \n",
       "4     -27095000.0    2012.0                5.29                  7.328355e+07  \n",
       "\n",
       "[5 rows x 79 columns]"
      ]
     },
     "execution_count": 3,
     "metadata": {},
     "output_type": "execute_result"
    }
   ],
   "source": [
    "fundamental_df = pd.read_csv(\"fundamentals.csv\")\n",
    "fundamental_df.head() # 79 columns"
   ]
  },
  {
   "cell_type": "code",
   "execution_count": 4,
   "id": "d780489d",
   "metadata": {},
   "outputs": [],
   "source": [
    "fundamentals = fundamental_df.drop(columns = ['Ticker Symbol', 'Period Ending', 'For Year'])\n",
    "fundamentals = fundamentals.loc[:, ~fundamentals.columns.str.contains('^Unnamed')]\n",
    "fundamentals = fundamentals.dropna()"
   ]
  },
  {
   "cell_type": "code",
   "execution_count": 5,
   "id": "8c68a7f5",
   "metadata": {},
   "outputs": [
    {
     "data": {
      "text/html": [
       "<div>\n",
       "<style scoped>\n",
       "    .dataframe tbody tr th:only-of-type {\n",
       "        vertical-align: middle;\n",
       "    }\n",
       "\n",
       "    .dataframe tbody tr th {\n",
       "        vertical-align: top;\n",
       "    }\n",
       "\n",
       "    .dataframe thead th {\n",
       "        text-align: right;\n",
       "    }\n",
       "</style>\n",
       "<table border=\"1\" class=\"dataframe\">\n",
       "  <thead>\n",
       "    <tr style=\"text-align: right;\">\n",
       "      <th></th>\n",
       "      <th>Accounts Payable</th>\n",
       "      <th>Accounts Receivable</th>\n",
       "      <th>Add'l income/expense items</th>\n",
       "      <th>After Tax ROE</th>\n",
       "      <th>Capital Expenditures</th>\n",
       "      <th>Capital Surplus</th>\n",
       "      <th>Cash Ratio</th>\n",
       "      <th>Cash and Cash Equivalents</th>\n",
       "      <th>Changes in Inventories</th>\n",
       "      <th>Common Stocks</th>\n",
       "      <th>...</th>\n",
       "      <th>Total Assets</th>\n",
       "      <th>Total Current Assets</th>\n",
       "      <th>Total Current Liabilities</th>\n",
       "      <th>Total Equity</th>\n",
       "      <th>Total Liabilities</th>\n",
       "      <th>Total Liabilities &amp; Equity</th>\n",
       "      <th>Total Revenue</th>\n",
       "      <th>Treasury Stock</th>\n",
       "      <th>Earnings Per Share</th>\n",
       "      <th>Estimated Shares Outstanding</th>\n",
       "    </tr>\n",
       "  </thead>\n",
       "  <tbody>\n",
       "    <tr>\n",
       "      <th>0</th>\n",
       "      <td>3.068000e+09</td>\n",
       "      <td>-222000000.0</td>\n",
       "      <td>-1.961000e+09</td>\n",
       "      <td>23.0</td>\n",
       "      <td>-1.888000e+09</td>\n",
       "      <td>4.695000e+09</td>\n",
       "      <td>53.0</td>\n",
       "      <td>1.330000e+09</td>\n",
       "      <td>0.0</td>\n",
       "      <td>127000000.0</td>\n",
       "      <td>...</td>\n",
       "      <td>2.351000e+10</td>\n",
       "      <td>7.072000e+09</td>\n",
       "      <td>9.011000e+09</td>\n",
       "      <td>-7.987000e+09</td>\n",
       "      <td>2.489100e+10</td>\n",
       "      <td>1.690400e+10</td>\n",
       "      <td>2.485500e+10</td>\n",
       "      <td>-367000000.0</td>\n",
       "      <td>-5.60</td>\n",
       "      <td>3.350000e+08</td>\n",
       "    </tr>\n",
       "    <tr>\n",
       "      <th>1</th>\n",
       "      <td>4.975000e+09</td>\n",
       "      <td>-93000000.0</td>\n",
       "      <td>-2.723000e+09</td>\n",
       "      <td>67.0</td>\n",
       "      <td>-3.114000e+09</td>\n",
       "      <td>1.059200e+10</td>\n",
       "      <td>75.0</td>\n",
       "      <td>2.175000e+09</td>\n",
       "      <td>0.0</td>\n",
       "      <td>5000000.0</td>\n",
       "      <td>...</td>\n",
       "      <td>4.227800e+10</td>\n",
       "      <td>1.432300e+10</td>\n",
       "      <td>1.380600e+10</td>\n",
       "      <td>-2.731000e+09</td>\n",
       "      <td>4.500900e+10</td>\n",
       "      <td>4.227800e+10</td>\n",
       "      <td>2.674300e+10</td>\n",
       "      <td>0.0</td>\n",
       "      <td>-11.25</td>\n",
       "      <td>1.630222e+08</td>\n",
       "    </tr>\n",
       "    <tr>\n",
       "      <th>2</th>\n",
       "      <td>4.668000e+09</td>\n",
       "      <td>-160000000.0</td>\n",
       "      <td>-1.500000e+08</td>\n",
       "      <td>143.0</td>\n",
       "      <td>-5.311000e+09</td>\n",
       "      <td>1.513500e+10</td>\n",
       "      <td>60.0</td>\n",
       "      <td>1.768000e+09</td>\n",
       "      <td>0.0</td>\n",
       "      <td>7000000.0</td>\n",
       "      <td>...</td>\n",
       "      <td>4.322500e+10</td>\n",
       "      <td>1.175000e+10</td>\n",
       "      <td>1.340400e+10</td>\n",
       "      <td>2.021000e+09</td>\n",
       "      <td>4.120400e+10</td>\n",
       "      <td>4.322500e+10</td>\n",
       "      <td>4.265000e+10</td>\n",
       "      <td>0.0</td>\n",
       "      <td>4.02</td>\n",
       "      <td>7.169154e+08</td>\n",
       "    </tr>\n",
       "    <tr>\n",
       "      <th>3</th>\n",
       "      <td>5.102000e+09</td>\n",
       "      <td>352000000.0</td>\n",
       "      <td>-7.080000e+08</td>\n",
       "      <td>135.0</td>\n",
       "      <td>-6.151000e+09</td>\n",
       "      <td>1.159100e+10</td>\n",
       "      <td>51.0</td>\n",
       "      <td>1.085000e+09</td>\n",
       "      <td>0.0</td>\n",
       "      <td>6000000.0</td>\n",
       "      <td>...</td>\n",
       "      <td>4.841500e+10</td>\n",
       "      <td>9.985000e+09</td>\n",
       "      <td>1.360500e+10</td>\n",
       "      <td>5.635000e+09</td>\n",
       "      <td>4.278000e+10</td>\n",
       "      <td>4.841500e+10</td>\n",
       "      <td>4.099000e+10</td>\n",
       "      <td>0.0</td>\n",
       "      <td>11.39</td>\n",
       "      <td>6.681299e+08</td>\n",
       "    </tr>\n",
       "    <tr>\n",
       "      <th>4</th>\n",
       "      <td>2.409453e+09</td>\n",
       "      <td>-89482000.0</td>\n",
       "      <td>6.000000e+05</td>\n",
       "      <td>32.0</td>\n",
       "      <td>-2.711820e+08</td>\n",
       "      <td>5.202150e+08</td>\n",
       "      <td>23.0</td>\n",
       "      <td>5.981110e+08</td>\n",
       "      <td>-260298000.0</td>\n",
       "      <td>7000.0</td>\n",
       "      <td>...</td>\n",
       "      <td>4.613814e+09</td>\n",
       "      <td>3.184200e+09</td>\n",
       "      <td>2.559638e+09</td>\n",
       "      <td>1.210694e+09</td>\n",
       "      <td>3.403120e+09</td>\n",
       "      <td>4.613814e+09</td>\n",
       "      <td>6.205003e+09</td>\n",
       "      <td>-27095000.0</td>\n",
       "      <td>5.29</td>\n",
       "      <td>7.328355e+07</td>\n",
       "    </tr>\n",
       "  </tbody>\n",
       "</table>\n",
       "<p>5 rows × 75 columns</p>\n",
       "</div>"
      ],
      "text/plain": [
       "   Accounts Payable  Accounts Receivable  Add'l income/expense items  \\\n",
       "0      3.068000e+09         -222000000.0               -1.961000e+09   \n",
       "1      4.975000e+09          -93000000.0               -2.723000e+09   \n",
       "2      4.668000e+09         -160000000.0               -1.500000e+08   \n",
       "3      5.102000e+09          352000000.0               -7.080000e+08   \n",
       "4      2.409453e+09          -89482000.0                6.000000e+05   \n",
       "\n",
       "   After Tax ROE  Capital Expenditures  Capital Surplus  Cash Ratio  \\\n",
       "0           23.0         -1.888000e+09     4.695000e+09        53.0   \n",
       "1           67.0         -3.114000e+09     1.059200e+10        75.0   \n",
       "2          143.0         -5.311000e+09     1.513500e+10        60.0   \n",
       "3          135.0         -6.151000e+09     1.159100e+10        51.0   \n",
       "4           32.0         -2.711820e+08     5.202150e+08        23.0   \n",
       "\n",
       "   Cash and Cash Equivalents  Changes in Inventories  Common Stocks  ...  \\\n",
       "0               1.330000e+09                     0.0    127000000.0  ...   \n",
       "1               2.175000e+09                     0.0      5000000.0  ...   \n",
       "2               1.768000e+09                     0.0      7000000.0  ...   \n",
       "3               1.085000e+09                     0.0      6000000.0  ...   \n",
       "4               5.981110e+08            -260298000.0         7000.0  ...   \n",
       "\n",
       "   Total Assets  Total Current Assets  Total Current Liabilities  \\\n",
       "0  2.351000e+10          7.072000e+09               9.011000e+09   \n",
       "1  4.227800e+10          1.432300e+10               1.380600e+10   \n",
       "2  4.322500e+10          1.175000e+10               1.340400e+10   \n",
       "3  4.841500e+10          9.985000e+09               1.360500e+10   \n",
       "4  4.613814e+09          3.184200e+09               2.559638e+09   \n",
       "\n",
       "   Total Equity  Total Liabilities  Total Liabilities & Equity  Total Revenue  \\\n",
       "0 -7.987000e+09       2.489100e+10                1.690400e+10   2.485500e+10   \n",
       "1 -2.731000e+09       4.500900e+10                4.227800e+10   2.674300e+10   \n",
       "2  2.021000e+09       4.120400e+10                4.322500e+10   4.265000e+10   \n",
       "3  5.635000e+09       4.278000e+10                4.841500e+10   4.099000e+10   \n",
       "4  1.210694e+09       3.403120e+09                4.613814e+09   6.205003e+09   \n",
       "\n",
       "   Treasury Stock  Earnings Per Share  Estimated Shares Outstanding  \n",
       "0    -367000000.0               -5.60                  3.350000e+08  \n",
       "1             0.0              -11.25                  1.630222e+08  \n",
       "2             0.0                4.02                  7.169154e+08  \n",
       "3             0.0               11.39                  6.681299e+08  \n",
       "4     -27095000.0                5.29                  7.328355e+07  \n",
       "\n",
       "[5 rows x 75 columns]"
      ]
     },
     "execution_count": 5,
     "metadata": {},
     "output_type": "execute_result"
    }
   ],
   "source": [
    "fundamentals.head() # 75 columns"
   ]
  },
  {
   "cell_type": "code",
   "execution_count": 6,
   "id": "41ae87db",
   "metadata": {
    "scrolled": true
   },
   "outputs": [
    {
     "name": "stdout",
     "output_type": "stream",
     "text": [
      "<class 'pandas.core.frame.DataFrame'>\n",
      "Index: 1299 entries, 0 to 1779\n",
      "Data columns (total 75 columns):\n",
      " #   Column                                               Non-Null Count  Dtype  \n",
      "---  ------                                               --------------  -----  \n",
      " 0   Accounts Payable                                     1299 non-null   float64\n",
      " 1   Accounts Receivable                                  1299 non-null   float64\n",
      " 2   Add'l income/expense items                           1299 non-null   float64\n",
      " 3   After Tax ROE                                        1299 non-null   float64\n",
      " 4   Capital Expenditures                                 1299 non-null   float64\n",
      " 5   Capital Surplus                                      1299 non-null   float64\n",
      " 6   Cash Ratio                                           1299 non-null   float64\n",
      " 7   Cash and Cash Equivalents                            1299 non-null   float64\n",
      " 8   Changes in Inventories                               1299 non-null   float64\n",
      " 9   Common Stocks                                        1299 non-null   float64\n",
      " 10  Cost of Revenue                                      1299 non-null   float64\n",
      " 11  Current Ratio                                        1299 non-null   float64\n",
      " 12  Deferred Asset Charges                               1299 non-null   float64\n",
      " 13  Deferred Liability Charges                           1299 non-null   float64\n",
      " 14  Depreciation                                         1299 non-null   float64\n",
      " 15  Earnings Before Interest and Tax                     1299 non-null   float64\n",
      " 16  Earnings Before Tax                                  1299 non-null   float64\n",
      " 17  Effect of Exchange Rate                              1299 non-null   float64\n",
      " 18  Equity Earnings/Loss Unconsolidated Subsidiary       1299 non-null   float64\n",
      " 19  Fixed Assets                                         1299 non-null   float64\n",
      " 20  Goodwill                                             1299 non-null   float64\n",
      " 21  Gross Margin                                         1299 non-null   float64\n",
      " 22  Gross Profit                                         1299 non-null   float64\n",
      " 23  Income Tax                                           1299 non-null   float64\n",
      " 24  Intangible Assets                                    1299 non-null   float64\n",
      " 25  Interest Expense                                     1299 non-null   float64\n",
      " 26  Inventory                                            1299 non-null   float64\n",
      " 27  Investments                                          1299 non-null   float64\n",
      " 28  Liabilities                                          1299 non-null   float64\n",
      " 29  Long-Term Debt                                       1299 non-null   float64\n",
      " 30  Long-Term Investments                                1299 non-null   float64\n",
      " 31  Minority Interest                                    1299 non-null   float64\n",
      " 32  Misc. Stocks                                         1299 non-null   float64\n",
      " 33  Net Borrowings                                       1299 non-null   float64\n",
      " 34  Net Cash Flow                                        1299 non-null   float64\n",
      " 35  Net Cash Flow-Operating                              1299 non-null   float64\n",
      " 36  Net Cash Flows-Financing                             1299 non-null   float64\n",
      " 37  Net Cash Flows-Investing                             1299 non-null   float64\n",
      " 38  Net Income                                           1299 non-null   float64\n",
      " 39  Net Income Adjustments                               1299 non-null   float64\n",
      " 40  Net Income Applicable to Common Shareholders         1299 non-null   float64\n",
      " 41  Net Income-Cont. Operations                          1299 non-null   float64\n",
      " 42  Net Receivables                                      1299 non-null   float64\n",
      " 43  Non-Recurring Items                                  1299 non-null   float64\n",
      " 44  Operating Income                                     1299 non-null   float64\n",
      " 45  Operating Margin                                     1299 non-null   float64\n",
      " 46  Other Assets                                         1299 non-null   float64\n",
      " 47  Other Current Assets                                 1299 non-null   float64\n",
      " 48  Other Current Liabilities                            1299 non-null   float64\n",
      " 49  Other Equity                                         1299 non-null   float64\n",
      " 50  Other Financing Activities                           1299 non-null   float64\n",
      " 51  Other Investing Activities                           1299 non-null   float64\n",
      " 52  Other Liabilities                                    1299 non-null   float64\n",
      " 53  Other Operating Activities                           1299 non-null   float64\n",
      " 54  Other Operating Items                                1299 non-null   float64\n",
      " 55  Pre-Tax Margin                                       1299 non-null   float64\n",
      " 56  Pre-Tax ROE                                          1299 non-null   float64\n",
      " 57  Profit Margin                                        1299 non-null   float64\n",
      " 58  Quick Ratio                                          1299 non-null   float64\n",
      " 59  Research and Development                             1299 non-null   float64\n",
      " 60  Retained Earnings                                    1299 non-null   float64\n",
      " 61  Sale and Purchase of Stock                           1299 non-null   float64\n",
      " 62  Sales, General and Admin.                            1299 non-null   float64\n",
      " 63  Short-Term Debt / Current Portion of Long-Term Debt  1299 non-null   float64\n",
      " 64  Short-Term Investments                               1299 non-null   float64\n",
      " 65  Total Assets                                         1299 non-null   float64\n",
      " 66  Total Current Assets                                 1299 non-null   float64\n",
      " 67  Total Current Liabilities                            1299 non-null   float64\n",
      " 68  Total Equity                                         1299 non-null   float64\n",
      " 69  Total Liabilities                                    1299 non-null   float64\n",
      " 70  Total Liabilities & Equity                           1299 non-null   float64\n",
      " 71  Total Revenue                                        1299 non-null   float64\n",
      " 72  Treasury Stock                                       1299 non-null   float64\n",
      " 73  Earnings Per Share                                   1299 non-null   float64\n",
      " 74  Estimated Shares Outstanding                         1299 non-null   float64\n",
      "dtypes: float64(75)\n",
      "memory usage: 771.3 KB\n"
     ]
    }
   ],
   "source": [
    "fundamentals.info() # 1299 rows, 75 columns"
   ]
  },
  {
   "cell_type": "markdown",
   "id": "d0665518",
   "metadata": {},
   "source": [
    "## b. Split data set with 70% train and 30% test then build random forest model.  Default every (hyper-)parameter then compute MSE. "
   ]
  },
  {
   "cell_type": "code",
   "execution_count": 7,
   "id": "4ed02502",
   "metadata": {},
   "outputs": [],
   "source": [
    "from sklearn.preprocessing import StandardScaler\n",
    "from sklearn.model_selection import train_test_split\n",
    "\n",
    "X = fundamentals.drop(['Estimated Shares Outstanding'], axis = 1)\n",
    "y = fundamentals['Estimated Shares Outstanding']\n",
    "# Split the data\n",
    "X_train, X_test, y_train, y_test = train_test_split(X, y, test_size=0.3, random_state=1)\n",
    "# Standardize the features \n",
    "scaler = StandardScaler()\n",
    "X_train_scaled = scaler.fit_transform(X_train)\n",
    "X_test_scaled = scaler.transform(X_test)"
   ]
  },
  {
   "cell_type": "code",
   "execution_count": 8,
   "id": "7e9ed4d2",
   "metadata": {},
   "outputs": [
    {
     "data": {
      "text/html": [
       "<style>#sk-container-id-1 {color: black;}#sk-container-id-1 pre{padding: 0;}#sk-container-id-1 div.sk-toggleable {background-color: white;}#sk-container-id-1 label.sk-toggleable__label {cursor: pointer;display: block;width: 100%;margin-bottom: 0;padding: 0.3em;box-sizing: border-box;text-align: center;}#sk-container-id-1 label.sk-toggleable__label-arrow:before {content: \"▸\";float: left;margin-right: 0.25em;color: #696969;}#sk-container-id-1 label.sk-toggleable__label-arrow:hover:before {color: black;}#sk-container-id-1 div.sk-estimator:hover label.sk-toggleable__label-arrow:before {color: black;}#sk-container-id-1 div.sk-toggleable__content {max-height: 0;max-width: 0;overflow: hidden;text-align: left;background-color: #f0f8ff;}#sk-container-id-1 div.sk-toggleable__content pre {margin: 0.2em;color: black;border-radius: 0.25em;background-color: #f0f8ff;}#sk-container-id-1 input.sk-toggleable__control:checked~div.sk-toggleable__content {max-height: 200px;max-width: 100%;overflow: auto;}#sk-container-id-1 input.sk-toggleable__control:checked~label.sk-toggleable__label-arrow:before {content: \"▾\";}#sk-container-id-1 div.sk-estimator input.sk-toggleable__control:checked~label.sk-toggleable__label {background-color: #d4ebff;}#sk-container-id-1 div.sk-label input.sk-toggleable__control:checked~label.sk-toggleable__label {background-color: #d4ebff;}#sk-container-id-1 input.sk-hidden--visually {border: 0;clip: rect(1px 1px 1px 1px);clip: rect(1px, 1px, 1px, 1px);height: 1px;margin: -1px;overflow: hidden;padding: 0;position: absolute;width: 1px;}#sk-container-id-1 div.sk-estimator {font-family: monospace;background-color: #f0f8ff;border: 1px dotted black;border-radius: 0.25em;box-sizing: border-box;margin-bottom: 0.5em;}#sk-container-id-1 div.sk-estimator:hover {background-color: #d4ebff;}#sk-container-id-1 div.sk-parallel-item::after {content: \"\";width: 100%;border-bottom: 1px solid gray;flex-grow: 1;}#sk-container-id-1 div.sk-label:hover label.sk-toggleable__label {background-color: #d4ebff;}#sk-container-id-1 div.sk-serial::before {content: \"\";position: absolute;border-left: 1px solid gray;box-sizing: border-box;top: 0;bottom: 0;left: 50%;z-index: 0;}#sk-container-id-1 div.sk-serial {display: flex;flex-direction: column;align-items: center;background-color: white;padding-right: 0.2em;padding-left: 0.2em;position: relative;}#sk-container-id-1 div.sk-item {position: relative;z-index: 1;}#sk-container-id-1 div.sk-parallel {display: flex;align-items: stretch;justify-content: center;background-color: white;position: relative;}#sk-container-id-1 div.sk-item::before, #sk-container-id-1 div.sk-parallel-item::before {content: \"\";position: absolute;border-left: 1px solid gray;box-sizing: border-box;top: 0;bottom: 0;left: 50%;z-index: -1;}#sk-container-id-1 div.sk-parallel-item {display: flex;flex-direction: column;z-index: 1;position: relative;background-color: white;}#sk-container-id-1 div.sk-parallel-item:first-child::after {align-self: flex-end;width: 50%;}#sk-container-id-1 div.sk-parallel-item:last-child::after {align-self: flex-start;width: 50%;}#sk-container-id-1 div.sk-parallel-item:only-child::after {width: 0;}#sk-container-id-1 div.sk-dashed-wrapped {border: 1px dashed gray;margin: 0 0.4em 0.5em 0.4em;box-sizing: border-box;padding-bottom: 0.4em;background-color: white;}#sk-container-id-1 div.sk-label label {font-family: monospace;font-weight: bold;display: inline-block;line-height: 1.2em;}#sk-container-id-1 div.sk-label-container {text-align: center;}#sk-container-id-1 div.sk-container {/* jupyter's `normalize.less` sets `[hidden] { display: none; }` but bootstrap.min.css set `[hidden] { display: none !important; }` so we also need the `!important` here to be able to override the default hidden behavior on the sphinx rendered scikit-learn.org. See: https://github.com/scikit-learn/scikit-learn/issues/21755 */display: inline-block !important;position: relative;}#sk-container-id-1 div.sk-text-repr-fallback {display: none;}</style><div id=\"sk-container-id-1\" class=\"sk-top-container\"><div class=\"sk-text-repr-fallback\"><pre>RandomForestRegressor(random_state=1)</pre><b>In a Jupyter environment, please rerun this cell to show the HTML representation or trust the notebook. <br />On GitHub, the HTML representation is unable to render, please try loading this page with nbviewer.org.</b></div><div class=\"sk-container\" hidden><div class=\"sk-item\"><div class=\"sk-estimator sk-toggleable\"><input class=\"sk-toggleable__control sk-hidden--visually\" id=\"sk-estimator-id-1\" type=\"checkbox\" checked><label for=\"sk-estimator-id-1\" class=\"sk-toggleable__label sk-toggleable__label-arrow\">RandomForestRegressor</label><div class=\"sk-toggleable__content\"><pre>RandomForestRegressor(random_state=1)</pre></div></div></div></div></div>"
      ],
      "text/plain": [
       "RandomForestRegressor(random_state=1)"
      ]
     },
     "execution_count": 8,
     "metadata": {},
     "output_type": "execute_result"
    }
   ],
   "source": [
    "from sklearn.ensemble import RandomForestRegressor\n",
    "rf_model = RandomForestRegressor(random_state = 1)\n",
    "rf_model.fit(X_train_scaled, y_train)"
   ]
  },
  {
   "cell_type": "code",
   "execution_count": 11,
   "id": "acf18081",
   "metadata": {},
   "outputs": [
    {
     "data": {
      "text/plain": [
       "1.3900117181106947e+17"
      ]
     },
     "execution_count": 11,
     "metadata": {},
     "output_type": "execute_result"
    }
   ],
   "source": [
    "from sklearn.metrics import mean_squared_error\n",
    "\n",
    "# Prediction\n",
    "y_pred = rf_model.predict(X_test_scaled)\n",
    "\n",
    "mse = mean_squared_error(y_test, y_pred)\n",
    "mse"
   ]
  },
  {
   "cell_type": "markdown",
   "id": "db5a0f78",
   "metadata": {},
   "source": [
    "## c. Build random forest with min_samples_split set to 3.  Compare with random forest model in (b).  Explain."
   ]
  },
  {
   "cell_type": "code",
   "execution_count": 12,
   "id": "ff014b25",
   "metadata": {},
   "outputs": [
    {
     "data": {
      "text/plain": [
       "1.3417177104783466e+17"
      ]
     },
     "execution_count": 12,
     "metadata": {},
     "output_type": "execute_result"
    }
   ],
   "source": [
    "rf_model_min = RandomForestRegressor(min_samples_split = 3, random_state = 1)\n",
    "rf_model_min.fit(X_train_scaled, y_train)\n",
    "y_pred = rf_model_min.predict(X_test_scaled)\n",
    "mse = mean_squared_error(y_test, y_pred)\n",
    "mse"
   ]
  },
  {
   "cell_type": "markdown",
   "id": "a7eda3ff",
   "metadata": {},
   "source": [
    "### Explanation:\n",
    "\n",
    "The second model has a slightly lower MSE compared to the first model. By reducing the minimum sample size to 3, it allows the tree to grow more deeper and more complex, it allows the model to behave better on the data, though there is a risk of overfitting also. "
   ]
  },
  {
   "cell_type": "markdown",
   "id": "876f955b",
   "metadata": {},
   "source": [
    "### d. Use \"Mean Decrease in Impurity\" and \"Permutation Feature Importance\" to compute the variable importance of the random forest in (c).  Explain how each method computes the variable importance and compare their results."
   ]
  },
  {
   "cell_type": "code",
   "execution_count": 13,
   "id": "c4d209ca",
   "metadata": {},
   "outputs": [
    {
     "name": "stdout",
     "output_type": "stream",
     "text": [
      "Feature importances using MDI:  [0.00294152 0.00075183 0.00114309 0.00232025 0.00091839 0.00745395\n",
      " 0.0024874  0.00285065 0.00279553 0.00591375 0.00263091 0.00188582\n",
      " 0.00136946 0.00157716 0.0155627  0.12664464 0.00880228 0.00465275\n",
      " 0.00218313 0.00278812 0.00255321 0.00742118 0.00936356 0.00087519\n",
      " 0.00301844 0.00169229 0.00133983 0.00516182 0.00074733 0.00196774\n",
      " 0.00262532 0.00810233 0.00235076 0.00333646 0.00074051 0.06661842\n",
      " 0.00363564 0.00550991 0.01076453 0.00100515 0.0105299  0.02436908\n",
      " 0.00271917 0.00462584 0.02191153 0.00196399 0.00495493 0.00452161\n",
      " 0.00243154 0.0132073  0.00190461 0.00131209 0.00277931 0.00150075\n",
      " 0.00081267 0.00060581 0.00218202 0.00235415 0.00101778 0.00698806\n",
      " 0.00558086 0.00413406 0.00393004 0.00393983 0.05761576 0.11717586\n",
      " 0.00584926 0.00270369 0.23491945 0.00142183 0.06760714 0.0017598\n",
      " 0.00161394 0.04255339]\n",
      "Feature importances using PFI:  [ 1.65460655e-03 -7.35786883e-05  8.15527874e-04 -1.70222343e-04\n",
      " -1.69575592e-04  6.49736377e-03  9.75333799e-04  4.04359993e-05\n",
      "  9.83868619e-04  1.29338680e-03  3.32134330e-03  2.03684008e-03\n",
      "  1.09457227e-03  1.00794988e-03  7.86576524e-04  2.79871869e-02\n",
      "  4.18748884e-03  1.60166884e-03  5.39308810e-04  3.55201568e-04\n",
      "  1.32449430e-03  7.21575866e-03  3.01812195e-03  6.05568247e-04\n",
      "  5.49844397e-04  3.34010351e-04 -3.11182537e-04 -1.06165572e-03\n",
      " -8.51202362e-05  1.30579093e-03  1.31054038e-03  4.48467992e-03\n",
      " -5.91816316e-04  2.57270511e-04  7.77224432e-05  2.39206936e-02\n",
      " -7.64025912e-04  8.78605749e-04  3.69600209e-03  3.76912534e-04\n",
      "  4.62756804e-03  5.01435558e-03  5.09824841e-04 -1.51459714e-03\n",
      "  1.96499822e-03 -3.03683756e-04  4.91154359e-03  2.64623573e-03\n",
      "  1.76889927e-03  1.42410973e-02  8.45922846e-05  1.20057088e-04\n",
      " -1.27480199e-03  2.04704004e-04  2.86926958e-04  2.91331423e-04\n",
      " -1.91992527e-03  1.10471460e-04  7.94406949e-04  6.39892039e-03\n",
      "  3.16317372e-03 -4.33265539e-04  4.34827591e-03  7.91897271e-04\n",
      "  9.34046878e-03  3.73346520e-02  1.24397134e-03  2.00350843e-03\n",
      "  1.79800611e-01  1.72269880e-03  1.43953246e-02 -4.49406412e-04\n",
      "  5.44664638e-04  7.01759705e-02]\n"
     ]
    }
   ],
   "source": [
    "from sklearn.inspection import permutation_importance\n",
    "# Compute Mean Decrease in Impurity\n",
    "feature_importances_mdi = rf_model_min.feature_importances_\n",
    "\n",
    "# Compute Permutation Feature Importance\n",
    "result = permutation_importance(rf_model_min, X_test_scaled, y_test, n_repeats=10, random_state=1)\n",
    "feature_importances_perm = result.importances_mean\n",
    "\n",
    "print(\"Feature importances using MDI: \", feature_importances_mdi)\n",
    "print(\"Feature importances using PFI: \", feature_importances_perm)"
   ]
  },
  {
   "cell_type": "markdown",
   "id": "034a6363",
   "metadata": {},
   "source": [
    "Mean Decrease in Impurity: Sum the decreases in Gini inpurity caused by each features across all trees in the forest, and normalized by the total number of trees. This is computed during the model training, which requires no addtional computation. \n",
    "Permutation Feature Importance:  for each feature, shuffling the values of the features, while keeping all the other features same, and then measuring the decrease in the model's performance. The decrease in performance is averaged through several repetitions, and represents the importance of each feature. This requires more computation while provides better understanding of the behavior of the model's on unseen data. \n",
    "From the result of calculation for MDI, there are some features with high importance score (eg. 0.23491945 ), while it might have a different importance ranking under the calculation for PFI scores. "
   ]
  },
  {
   "cell_type": "markdown",
   "id": "b9037b4f",
   "metadata": {},
   "source": [
    "### e. Use the same split to build lasso regression.  Compare with last model (c). "
   ]
  },
  {
   "cell_type": "code",
   "execution_count": 14,
   "id": "e7124596",
   "metadata": {},
   "outputs": [
    {
     "name": "stderr",
     "output_type": "stream",
     "text": [
      "C:\\Users\\szhou\\anaconda3\\Lib\\site-packages\\sklearn\\linear_model\\_coordinate_descent.py:628: ConvergenceWarning: Objective did not converge. You might want to increase the number of iterations, check the scale of the features or consider increasing regularisation. Duality gap: 6.528e+19, tolerance: 9.190e+16\n",
      "  model = cd_fast.enet_coordinate_descent(\n"
     ]
    },
    {
     "data": {
      "text/plain": [
       "1.9494457041767226e+17"
      ]
     },
     "execution_count": 14,
     "metadata": {},
     "output_type": "execute_result"
    }
   ],
   "source": [
    "from sklearn.linear_model import Lasso\n",
    "\n",
    "lasso_model = Lasso(random_state=1)\n",
    "lasso_model.fit(X_train_scaled, y_train)\n",
    "y_pred = lasso_model.predict(X_test_scaled)\n",
    "mse = mean_squared_error(y_test, y_pred)\n",
    "mse"
   ]
  },
  {
   "cell_type": "markdown",
   "id": "609a43a9",
   "metadata": {},
   "source": [
    "### Explanation:\n",
    "\n",
    "The random forest regression (c) has a lower MSE and shows a better performace compared to the lasso regression. The random forest model is a better suit in the data and produce more accurate predictions. However, Lasso regression model is more interpretable than random foresst because it is a linear model. The effect of a one-unit change in one variable on the target varaible can be easily measured by the coefficients. Also Lasso regresson is able to simplifiy the model by shrinking some coefficients to zero while random forest makes model more complex. And Random Forest makes interpretation challenging when interpretation is the goal. "
   ]
  },
  {
   "cell_type": "markdown",
   "id": "a54ec955",
   "metadata": {},
   "source": [
    "# 2. Decision Tree Classification"
   ]
  },
  {
   "cell_type": "markdown",
   "id": "c524b521",
   "metadata": {},
   "source": [
    "## a. Use the breast cancer dataset to build decision tree classifier to predict the diagnosis.  Split the data into 70% train and 30% test. "
   ]
  },
  {
   "cell_type": "code",
   "execution_count": 15,
   "id": "a920c50d",
   "metadata": {},
   "outputs": [],
   "source": [
    "np.random.seed(seed=5566)"
   ]
  },
  {
   "cell_type": "code",
   "execution_count": 16,
   "id": "fe6745a4",
   "metadata": {},
   "outputs": [],
   "source": [
    "cancer_df = pd.read_csv(\"breast_cancer.csv\")\n",
    "cancer_df = cancer_df.loc[:, ~cancer_df.columns.str.contains('^Unnamed')]"
   ]
  },
  {
   "cell_type": "code",
   "execution_count": 17,
   "id": "a410ab94",
   "metadata": {},
   "outputs": [
    {
     "data": {
      "text/html": [
       "<div>\n",
       "<style scoped>\n",
       "    .dataframe tbody tr th:only-of-type {\n",
       "        vertical-align: middle;\n",
       "    }\n",
       "\n",
       "    .dataframe tbody tr th {\n",
       "        vertical-align: top;\n",
       "    }\n",
       "\n",
       "    .dataframe thead th {\n",
       "        text-align: right;\n",
       "    }\n",
       "</style>\n",
       "<table border=\"1\" class=\"dataframe\">\n",
       "  <thead>\n",
       "    <tr style=\"text-align: right;\">\n",
       "      <th></th>\n",
       "      <th>id</th>\n",
       "      <th>diagnosis</th>\n",
       "      <th>radius_mean</th>\n",
       "      <th>texture_mean</th>\n",
       "      <th>perimeter_mean</th>\n",
       "      <th>area_mean</th>\n",
       "      <th>smoothness_mean</th>\n",
       "      <th>compactness_mean</th>\n",
       "      <th>concavity_mean</th>\n",
       "      <th>concave points_mean</th>\n",
       "      <th>...</th>\n",
       "      <th>radius_worst</th>\n",
       "      <th>texture_worst</th>\n",
       "      <th>perimeter_worst</th>\n",
       "      <th>area_worst</th>\n",
       "      <th>smoothness_worst</th>\n",
       "      <th>compactness_worst</th>\n",
       "      <th>concavity_worst</th>\n",
       "      <th>concave points_worst</th>\n",
       "      <th>symmetry_worst</th>\n",
       "      <th>fractal_dimension_worst</th>\n",
       "    </tr>\n",
       "  </thead>\n",
       "  <tbody>\n",
       "    <tr>\n",
       "      <th>0</th>\n",
       "      <td>842302</td>\n",
       "      <td>M</td>\n",
       "      <td>17.99</td>\n",
       "      <td>10.38</td>\n",
       "      <td>122.80</td>\n",
       "      <td>1001.0</td>\n",
       "      <td>0.11840</td>\n",
       "      <td>0.27760</td>\n",
       "      <td>0.3001</td>\n",
       "      <td>0.14710</td>\n",
       "      <td>...</td>\n",
       "      <td>25.38</td>\n",
       "      <td>17.33</td>\n",
       "      <td>184.60</td>\n",
       "      <td>2019.0</td>\n",
       "      <td>0.1622</td>\n",
       "      <td>0.6656</td>\n",
       "      <td>0.7119</td>\n",
       "      <td>0.2654</td>\n",
       "      <td>0.4601</td>\n",
       "      <td>0.11890</td>\n",
       "    </tr>\n",
       "    <tr>\n",
       "      <th>1</th>\n",
       "      <td>842517</td>\n",
       "      <td>M</td>\n",
       "      <td>20.57</td>\n",
       "      <td>17.77</td>\n",
       "      <td>132.90</td>\n",
       "      <td>1326.0</td>\n",
       "      <td>0.08474</td>\n",
       "      <td>0.07864</td>\n",
       "      <td>0.0869</td>\n",
       "      <td>0.07017</td>\n",
       "      <td>...</td>\n",
       "      <td>24.99</td>\n",
       "      <td>23.41</td>\n",
       "      <td>158.80</td>\n",
       "      <td>1956.0</td>\n",
       "      <td>0.1238</td>\n",
       "      <td>0.1866</td>\n",
       "      <td>0.2416</td>\n",
       "      <td>0.1860</td>\n",
       "      <td>0.2750</td>\n",
       "      <td>0.08902</td>\n",
       "    </tr>\n",
       "    <tr>\n",
       "      <th>2</th>\n",
       "      <td>84300903</td>\n",
       "      <td>M</td>\n",
       "      <td>19.69</td>\n",
       "      <td>21.25</td>\n",
       "      <td>130.00</td>\n",
       "      <td>1203.0</td>\n",
       "      <td>0.10960</td>\n",
       "      <td>0.15990</td>\n",
       "      <td>0.1974</td>\n",
       "      <td>0.12790</td>\n",
       "      <td>...</td>\n",
       "      <td>23.57</td>\n",
       "      <td>25.53</td>\n",
       "      <td>152.50</td>\n",
       "      <td>1709.0</td>\n",
       "      <td>0.1444</td>\n",
       "      <td>0.4245</td>\n",
       "      <td>0.4504</td>\n",
       "      <td>0.2430</td>\n",
       "      <td>0.3613</td>\n",
       "      <td>0.08758</td>\n",
       "    </tr>\n",
       "    <tr>\n",
       "      <th>3</th>\n",
       "      <td>84348301</td>\n",
       "      <td>M</td>\n",
       "      <td>11.42</td>\n",
       "      <td>20.38</td>\n",
       "      <td>77.58</td>\n",
       "      <td>386.1</td>\n",
       "      <td>0.14250</td>\n",
       "      <td>0.28390</td>\n",
       "      <td>0.2414</td>\n",
       "      <td>0.10520</td>\n",
       "      <td>...</td>\n",
       "      <td>14.91</td>\n",
       "      <td>26.50</td>\n",
       "      <td>98.87</td>\n",
       "      <td>567.7</td>\n",
       "      <td>0.2098</td>\n",
       "      <td>0.8663</td>\n",
       "      <td>0.6869</td>\n",
       "      <td>0.2575</td>\n",
       "      <td>0.6638</td>\n",
       "      <td>0.17300</td>\n",
       "    </tr>\n",
       "    <tr>\n",
       "      <th>4</th>\n",
       "      <td>84358402</td>\n",
       "      <td>M</td>\n",
       "      <td>20.29</td>\n",
       "      <td>14.34</td>\n",
       "      <td>135.10</td>\n",
       "      <td>1297.0</td>\n",
       "      <td>0.10030</td>\n",
       "      <td>0.13280</td>\n",
       "      <td>0.1980</td>\n",
       "      <td>0.10430</td>\n",
       "      <td>...</td>\n",
       "      <td>22.54</td>\n",
       "      <td>16.67</td>\n",
       "      <td>152.20</td>\n",
       "      <td>1575.0</td>\n",
       "      <td>0.1374</td>\n",
       "      <td>0.2050</td>\n",
       "      <td>0.4000</td>\n",
       "      <td>0.1625</td>\n",
       "      <td>0.2364</td>\n",
       "      <td>0.07678</td>\n",
       "    </tr>\n",
       "  </tbody>\n",
       "</table>\n",
       "<p>5 rows × 32 columns</p>\n",
       "</div>"
      ],
      "text/plain": [
       "         id diagnosis  radius_mean  texture_mean  perimeter_mean  area_mean  \\\n",
       "0    842302         M        17.99         10.38          122.80     1001.0   \n",
       "1    842517         M        20.57         17.77          132.90     1326.0   \n",
       "2  84300903         M        19.69         21.25          130.00     1203.0   \n",
       "3  84348301         M        11.42         20.38           77.58      386.1   \n",
       "4  84358402         M        20.29         14.34          135.10     1297.0   \n",
       "\n",
       "   smoothness_mean  compactness_mean  concavity_mean  concave points_mean  \\\n",
       "0          0.11840           0.27760          0.3001              0.14710   \n",
       "1          0.08474           0.07864          0.0869              0.07017   \n",
       "2          0.10960           0.15990          0.1974              0.12790   \n",
       "3          0.14250           0.28390          0.2414              0.10520   \n",
       "4          0.10030           0.13280          0.1980              0.10430   \n",
       "\n",
       "   ...  radius_worst  texture_worst  perimeter_worst  area_worst  \\\n",
       "0  ...         25.38          17.33           184.60      2019.0   \n",
       "1  ...         24.99          23.41           158.80      1956.0   \n",
       "2  ...         23.57          25.53           152.50      1709.0   \n",
       "3  ...         14.91          26.50            98.87       567.7   \n",
       "4  ...         22.54          16.67           152.20      1575.0   \n",
       "\n",
       "   smoothness_worst  compactness_worst  concavity_worst  concave points_worst  \\\n",
       "0            0.1622             0.6656           0.7119                0.2654   \n",
       "1            0.1238             0.1866           0.2416                0.1860   \n",
       "2            0.1444             0.4245           0.4504                0.2430   \n",
       "3            0.2098             0.8663           0.6869                0.2575   \n",
       "4            0.1374             0.2050           0.4000                0.1625   \n",
       "\n",
       "   symmetry_worst  fractal_dimension_worst  \n",
       "0          0.4601                  0.11890  \n",
       "1          0.2750                  0.08902  \n",
       "2          0.3613                  0.08758  \n",
       "3          0.6638                  0.17300  \n",
       "4          0.2364                  0.07678  \n",
       "\n",
       "[5 rows x 32 columns]"
      ]
     },
     "execution_count": 17,
     "metadata": {},
     "output_type": "execute_result"
    }
   ],
   "source": [
    "cancer_df.head() # 32 columns"
   ]
  },
  {
   "cell_type": "code",
   "execution_count": 18,
   "id": "2f9e3af3",
   "metadata": {},
   "outputs": [
    {
     "name": "stdout",
     "output_type": "stream",
     "text": [
      "<class 'pandas.core.frame.DataFrame'>\n",
      "RangeIndex: 569 entries, 0 to 568\n",
      "Data columns (total 32 columns):\n",
      " #   Column                   Non-Null Count  Dtype  \n",
      "---  ------                   --------------  -----  \n",
      " 0   id                       569 non-null    int64  \n",
      " 1   diagnosis                569 non-null    object \n",
      " 2   radius_mean              569 non-null    float64\n",
      " 3   texture_mean             569 non-null    float64\n",
      " 4   perimeter_mean           569 non-null    float64\n",
      " 5   area_mean                569 non-null    float64\n",
      " 6   smoothness_mean          569 non-null    float64\n",
      " 7   compactness_mean         569 non-null    float64\n",
      " 8   concavity_mean           569 non-null    float64\n",
      " 9   concave points_mean      569 non-null    float64\n",
      " 10  symmetry_mean            569 non-null    float64\n",
      " 11  fractal_dimension_mean   569 non-null    float64\n",
      " 12  radius_se                569 non-null    float64\n",
      " 13  texture_se               569 non-null    float64\n",
      " 14  perimeter_se             569 non-null    float64\n",
      " 15  area_se                  569 non-null    float64\n",
      " 16  smoothness_se            569 non-null    float64\n",
      " 17  compactness_se           569 non-null    float64\n",
      " 18  concavity_se             569 non-null    float64\n",
      " 19  concave points_se        569 non-null    float64\n",
      " 20  symmetry_se              569 non-null    float64\n",
      " 21  fractal_dimension_se     569 non-null    float64\n",
      " 22  radius_worst             569 non-null    float64\n",
      " 23  texture_worst            569 non-null    float64\n",
      " 24  perimeter_worst          569 non-null    float64\n",
      " 25  area_worst               569 non-null    float64\n",
      " 26  smoothness_worst         569 non-null    float64\n",
      " 27  compactness_worst        569 non-null    float64\n",
      " 28  concavity_worst          569 non-null    float64\n",
      " 29  concave points_worst     569 non-null    float64\n",
      " 30  symmetry_worst           569 non-null    float64\n",
      " 31  fractal_dimension_worst  569 non-null    float64\n",
      "dtypes: float64(30), int64(1), object(1)\n",
      "memory usage: 142.4+ KB\n"
     ]
    }
   ],
   "source": [
    "cancer_df.info()"
   ]
  },
  {
   "cell_type": "code",
   "execution_count": 19,
   "id": "52f05fef",
   "metadata": {},
   "outputs": [
    {
     "data": {
      "text/plain": [
       "Series([], dtype: int64)"
      ]
     },
     "execution_count": 19,
     "metadata": {},
     "output_type": "execute_result"
    }
   ],
   "source": [
    "missing_values_cancer = cancer_df.isnull().sum()\n",
    "missing_values_cancer = missing_values_cancer[missing_values_cancer > 0]\n",
    "missing_values_cancer # no missing values"
   ]
  },
  {
   "cell_type": "code",
   "execution_count": 20,
   "id": "91b224d8",
   "metadata": {},
   "outputs": [],
   "source": [
    "# Encoding diagnosis column\n",
    "cancer_df['diagnosis'] = cancer_df['diagnosis'].map({'M': 1, 'B': 0})"
   ]
  },
  {
   "cell_type": "code",
   "execution_count": 21,
   "id": "cda54dcb",
   "metadata": {},
   "outputs": [],
   "source": [
    "# Drop column 'id' as irrelevant\n",
    "cancer_df.drop(columns=['id'], inplace=True)"
   ]
  },
  {
   "cell_type": "code",
   "execution_count": 29,
   "id": "78678d26",
   "metadata": {},
   "outputs": [
    {
     "name": "stdout",
     "output_type": "stream",
     "text": [
      "<class 'pandas.core.frame.DataFrame'>\n",
      "RangeIndex: 569 entries, 0 to 568\n",
      "Data columns (total 31 columns):\n",
      " #   Column                   Non-Null Count  Dtype  \n",
      "---  ------                   --------------  -----  \n",
      " 0   diagnosis                569 non-null    int64  \n",
      " 1   radius_mean              569 non-null    float64\n",
      " 2   texture_mean             569 non-null    float64\n",
      " 3   perimeter_mean           569 non-null    float64\n",
      " 4   area_mean                569 non-null    float64\n",
      " 5   smoothness_mean          569 non-null    float64\n",
      " 6   compactness_mean         569 non-null    float64\n",
      " 7   concavity_mean           569 non-null    float64\n",
      " 8   concave points_mean      569 non-null    float64\n",
      " 9   symmetry_mean            569 non-null    float64\n",
      " 10  fractal_dimension_mean   569 non-null    float64\n",
      " 11  radius_se                569 non-null    float64\n",
      " 12  texture_se               569 non-null    float64\n",
      " 13  perimeter_se             569 non-null    float64\n",
      " 14  area_se                  569 non-null    float64\n",
      " 15  smoothness_se            569 non-null    float64\n",
      " 16  compactness_se           569 non-null    float64\n",
      " 17  concavity_se             569 non-null    float64\n",
      " 18  concave points_se        569 non-null    float64\n",
      " 19  symmetry_se              569 non-null    float64\n",
      " 20  fractal_dimension_se     569 non-null    float64\n",
      " 21  radius_worst             569 non-null    float64\n",
      " 22  texture_worst            569 non-null    float64\n",
      " 23  perimeter_worst          569 non-null    float64\n",
      " 24  area_worst               569 non-null    float64\n",
      " 25  smoothness_worst         569 non-null    float64\n",
      " 26  compactness_worst        569 non-null    float64\n",
      " 27  concavity_worst          569 non-null    float64\n",
      " 28  concave points_worst     569 non-null    float64\n",
      " 29  symmetry_worst           569 non-null    float64\n",
      " 30  fractal_dimension_worst  569 non-null    float64\n",
      "dtypes: float64(30), int64(1)\n",
      "memory usage: 137.9 KB\n"
     ]
    }
   ],
   "source": [
    "cancer_df.info() # 31 columns"
   ]
  },
  {
   "cell_type": "code",
   "execution_count": 22,
   "id": "04388e48",
   "metadata": {},
   "outputs": [],
   "source": [
    "from sklearn.preprocessing import StandardScaler\n",
    "from sklearn.model_selection import train_test_split\n",
    "\n",
    "X = cancer_df.drop(['diagnosis'], axis = 1)\n",
    "y = cancer_df['diagnosis']\n",
    "# Split the data\n",
    "X_train, X_test, y_train, y_test = train_test_split(X, y, test_size=0.3, random_state=1)\n",
    "# Standardize the features \n",
    "scaler = StandardScaler()\n",
    "X_train_scaled = scaler.fit_transform(X_train)\n",
    "X_test_scaled = scaler.transform(X_test)"
   ]
  },
  {
   "cell_type": "code",
   "execution_count": 23,
   "id": "14eef64b",
   "metadata": {},
   "outputs": [],
   "source": [
    "from sklearn.tree import DecisionTreeClassifier\n",
    "decision_tree_classifier = DecisionTreeClassifier(random_state=1)\n",
    "decision_tree_classifier.fit(X_train_scaled, y_train)\n",
    "y_pred = decision_tree_classifier.predict(X_test_scaled)"
   ]
  },
  {
   "cell_type": "markdown",
   "id": "946ff3fd",
   "metadata": {},
   "source": [
    "## b. Print Confusion matrix and explain"
   ]
  },
  {
   "cell_type": "code",
   "execution_count": 24,
   "id": "99d76947",
   "metadata": {},
   "outputs": [
    {
     "name": "stdout",
     "output_type": "stream",
     "text": [
      "[[108   0]\n",
      " [ 12  51]]\n"
     ]
    }
   ],
   "source": [
    "from sklearn.metrics import confusion_matrix\n",
    "conf_matrix = confusion_matrix(y_test, y_pred)\n",
    "print(conf_matrix)"
   ]
  },
  {
   "cell_type": "markdown",
   "id": "910ff2e8",
   "metadata": {},
   "source": [
    "False positives is zero indicates the model has not made any Type I error, and did not label any true benign tumors as malignant.\n",
    "\n",
    "False negatives is 12 meaning there are 12 Type II errors, where it should have been labled as malignant but was labled as benign. This can be a big risk in a medical diagnosis context, as it represents cases of cancer that the model failed to detect."
   ]
  },
  {
   "cell_type": "markdown",
   "id": "d1e4412a",
   "metadata": {},
   "source": [
    "## c. Visualize the tree.  What variables are in the plot? "
   ]
  },
  {
   "cell_type": "code",
   "execution_count": 25,
   "id": "32a2614f",
   "metadata": {
    "scrolled": false
   },
   "outputs": [
    {
     "data": {
      "image/png": "[encoded data removed]",
      "text/plain": [
       "<Figure size 2000x1000 with 1 Axes>"
      ]
     },
     "metadata": {},
     "output_type": "display_data"
    }
   ],
   "source": [
    "from sklearn.tree import plot_tree\n",
    "import matplotlib.pyplot as plt\n",
    "\n",
    "plt.figure(figsize=(20,10))\n",
    "plot_tree(decision_tree_classifier, filled=True, feature_names=X.columns.tolist(), class_names=['Benign', 'Malignant'], rounded=True)\n",
    "plt.show()"
   ]
  },
  {
   "cell_type": "markdown",
   "id": "96a4520a",
   "metadata": {},
   "source": [
    "The decision tree uses some variables to make a decision to split the tree, or make a prediction on Benign and Malignant. For example, It uses threshold of 0.3 with concave points_worst to seperate the samples initially. Other variables such as area_se, texture_worst, radius_worst, perimeter_worst, smoothness_worst, fractal_dimension_se, concave points_mean, smoothness_mean, fractal_dimension_worst, all help to make the decisions. "
   ]
  },
  {
   "cell_type": "markdown",
   "id": "957b6f07",
   "metadata": {},
   "source": [
    "## d. Would you consider pruning this tree?  Why?  Where?  Explain how you would go about deciding where to prune the tree?  What measures would you use?"
   ]
  },
  {
   "cell_type": "markdown",
   "id": "eee4e08f",
   "metadata": {},
   "source": [
    "Yes, for some trees I would consider pruning it. For example, the tree of Smoothness_mean <= -1.239, the left sample has size of 1 and right sample has size of 130 and both leaves have gini score as 0 which is perfectly pure. Considering the big difference of the sample size, this tree can be overfitting, that the parent node is just captruing noise rather than potential patterns, so I would consider prune the tree here. After pruning, I could perform cross-validation to assess the model performace without this mode to compare. Or look at the changes of MSE and accuracy."
   ]
  },
  {
   "cell_type": "code",
   "execution_count": null,
   "id": "731e5f78",
   "metadata": {},
   "outputs": [],
   "source": []
  }
 ],
 "metadata": {
  "kernelspec": {
   "display_name": "Python 3 (ipykernel)",
   "language": "python",
   "name": "python3"
  },
  "language_info": {
   "codemirror_mode": {
    "name": "ipython",
    "version": 3
   },
   "file_extension": ".py",
   "mimetype": "text/x-python",
   "name": "python",
   "nbconvert_exporter": "python",
   "pygments_lexer": "ipython3",
   "version": "3.11.5"
  }
 },
 "nbformat": 4,
 "nbformat_minor": 5
}
